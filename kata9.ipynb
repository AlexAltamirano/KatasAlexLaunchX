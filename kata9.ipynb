{
 "cells": [
  {
   "cell_type": "markdown",
   "metadata": {},
   "source": [
    "# Ejercicio: Uso de funciones en Python\n",
    "Ejercicio 1: Trabajar con argumentos en funciones\n",
    "Los argumentos requeridos en las funciones se utilizan cuando las funciones necesitan que esos argumentos funcionen correctamente. En este ejercicio, construirás un informe de combustible que requiere información de varias ubicaciones de combustible en todo el cohete."
   ]
  },
  {
   "cell_type": "code",
   "execution_count": 30,
   "metadata": {},
   "outputs": [
    {
     "name": "stdout",
     "output_type": "stream",
     "text": [
      "Informe de tanques:\n",
      "    promedio: 2.0%\n",
      "    Tanque 1: 2%\n",
      "    Tanque 2: 2%\n",
      "    Tanque 3: 2% \n",
      "    \n"
     ]
    }
   ],
   "source": [
    "def informe(tanque1, tanque2, tanque3):\n",
    "    prom = (tanque1 + tanque2 + tanque3) / 3\n",
    "    return f\"\"\"Informe de tanques:\n",
    "    promedio: {prom}%\n",
    "    Tanque 1: {tanque1}%\n",
    "    Tanque 2: {tanque2}%\n",
    "    Tanque 3: {tanque3}% \n",
    "    \"\"\"\n",
    "\n",
    "\n",
    "print(informe(2, 2, 2))"
   ]
  },
  {
   "cell_type": "code",
   "execution_count": 31,
   "metadata": {},
   "outputs": [
    {
     "data": {
      "text/plain": [
       "82.0"
      ]
     },
     "execution_count": 31,
     "metadata": {},
     "output_type": "execute_result"
    }
   ],
   "source": [
    "# Función promedio \n",
    "def promedio(values):\n",
    "    total_de_contenido = sum(values)\n",
    "    numero_de_tanques = len(values)\n",
    "    return total_de_contenido / numero_de_tanques\n",
    "\n",
    "promedio([80, 85, 81]) "
   ]
  },
  {
   "cell_type": "code",
   "execution_count": 32,
   "metadata": {},
   "outputs": [
    {
     "name": "stdout",
     "output_type": "stream",
     "text": [
      "Informe de tanques:\n",
      "    Promedio: 78.0%\n",
      "    Tanque 1: 88%\n",
      "    Tanque 2: 76%\n",
      "    Tanque 3: 70% \n",
      "    \n"
     ]
    }
   ],
   "source": [
    "# Actualiza la función\n",
    "def informe(tanque1, tanque2, tanque3):\n",
    "    return f\"\"\"Informe de tanques:\n",
    "    Promedio: {promedio([tanque1, tanque2, tanque3])}%\n",
    "    Tanque 1: {tanque1}%\n",
    "    Tanque 2: {tanque2}%\n",
    "    Tanque 3: {tanque3}% \n",
    "    \"\"\"\n",
    "\n",
    "\n",
    "# Call the updated function again with different values\n",
    "print(informe(88, 76, 70))"
   ]
  },
  {
   "cell_type": "markdown",
   "metadata": {},
   "source": [
    "# Ejercicio 2: Trabajo con argumentos de palabra clave\n",
    "Ejercicio : Trabajar con argumentos de palabras clave en funciones\n",
    "En este ejercicio, construirás un informe de cohete que requiere varias piezas de información, como el tiempo hasta el destino, el combustible a la izquierda y el nombre del destino. Comienza por crear una función que creará un informe preciso de la misión:"
   ]
  },
  {
   "cell_type": "code",
   "execution_count": 33,
   "metadata": {},
   "outputs": [
    {
     "name": "stdout",
     "output_type": "stream",
     "text": [
      "Informe de mision:\n",
      "    Destino de la mision: Moon\n",
      "    Tiempo del vuelo total: 65 minutos\n",
      "    Total de combustible: 500000 galones\n",
      "    \n"
     ]
    }
   ],
   "source": [
    "# Función con un informe preciso de la misión. Considera hora de prelanzamiento, tiempo de vuelo, destino, tanque externo y tanque interno\n",
    "def IM(prelanzamiento, tiempodevuelo, destino, tanqueexterno, tanqueinterno):\n",
    "    return f\"\"\"Informe de mision:\n",
    "    Destino de la mision: {destino}\n",
    "    Tiempo del vuelo total: {prelanzamiento +tiempodevuelo} minutos\n",
    "    Total de combustible: {tanqueexterno + tanqueinterno} galones\n",
    "    \"\"\"\n",
    "print(IM(14, 51, \"Moon\", 200000, 300000))"
   ]
  },
  {
   "cell_type": "code",
   "execution_count": 34,
   "metadata": {},
   "outputs": [
    {
     "name": "stdout",
     "output_type": "stream",
     "text": [
      "Informe de mision:\n",
      "    Destino de la mision: Moon\n",
      "    Tiempo del vuelo total: 76 minutos\n",
      "    Total de combustible: 500000 galones\n",
      "    \n"
     ]
    }
   ],
   "source": [
    "def IM(destino, *tiempodevuelo, **reserva):\n",
    "    return f\"\"\"Informe de mision:\n",
    "    Destino de la mision: {destino}\n",
    "    Tiempo del vuelo total: {sum(tiempodevuelo)} minutos\n",
    "    Total de combustible: {sum(reserva.values())} galones\n",
    "    \"\"\"\n",
    "\n",
    "# Escribe tu nueva función de reporte considerando lo anterior\n",
    "print(IM(\"Moon\", 10, 15, 51, tanque1=300000, tanque2=200000))"
   ]
  },
  {
   "cell_type": "code",
   "execution_count": 41,
   "metadata": {},
   "outputs": [
    {
     "name": "stdout",
     "output_type": "stream",
     "text": [
      "Informe de mision:\n",
      "    Destino de la mision: Moon\n",
      "    Tiempo del vuelo total: 74 minutos\n",
      "    Total de combustible: 500000 galones\n",
      "    tanque_1 tanque -- > 300000 galones\n",
      "tanque_2 tanque -- > 200000 galones\n",
      "\n"
     ]
    }
   ],
   "source": [
    "# Escribe tu nueva función\n",
    "def IMr(destino, *tiempodevuelo, **reserva):\n",
    "    reporte = f\"\"\"Informe de mision:\n",
    "    Destino de la mision: {destino}\n",
    "    Tiempo del vuelo total: {sum(tiempodevuelo)} minutos\n",
    "    Total de combustible: {sum(reserva.values())} galones\n",
    "    \"\"\"\n",
    "    for N_tanque, Galon in reserva.items():\n",
    "        reporte += f\"{N_tanque} tanque -- > {Galon} galones\\n\"\n",
    "    return reporte\n",
    "\n",
    "print(IMr(\"Moon\", 8, 11, 55, tanque_1=300000, tanque_2=200000))"
   ]
  }
 ],
 "metadata": {
  "interpreter": {
   "hash": "fe2139f2b147e63e63ed0f6ec6e51be91bcc4a27d6244fb97a99c94273756340"
  },
  "kernelspec": {
   "display_name": "Python 3.10.2 64-bit (windows store)",
   "language": "python",
   "name": "python3"
  },
  "language_info": {
   "codemirror_mode": {
    "name": "ipython",
    "version": 3
   },
   "file_extension": ".py",
   "mimetype": "text/x-python",
   "name": "python",
   "nbconvert_exporter": "python",
   "pygments_lexer": "ipython3",
   "version": "3.10.2"
  },
  "orig_nbformat": 4
 },
 "nbformat": 4,
 "nbformat_minor": 2
}
